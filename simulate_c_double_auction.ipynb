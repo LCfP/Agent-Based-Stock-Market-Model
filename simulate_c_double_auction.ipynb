{
 "cells": [
  {
   "cell_type": "markdown",
   "metadata": {},
   "source": [
    "# Simulations\n",
    "In this iPython notebook, we run the double auction version of the model. "
   ]
  },
  {
   "cell_type": "code",
   "execution_count": 1,
   "metadata": {
    "collapsed": true
   },
   "outputs": [],
   "source": [
    "import pandas as pd\n",
    "import numpy as np\n",
    "from ipywidgets import widgets, interact\n",
    "from stockmarket import baselineCDoubleAuction\n",
    "import sqlite3\n",
    "from tqdm import *"
   ]
  },
  {
   "cell_type": "code",
   "execution_count": 2,
   "metadata": {
    "collapsed": true
   },
   "outputs": [],
   "source": [
    "NRUNS = 1"
   ]
  },
  {
   "cell_type": "code",
   "execution_count": 3,
   "metadata": {
    "collapsed": true
   },
   "outputs": [],
   "source": [
    "conn = sqlite3.connect('dataBaseCDA.sqlite')\n",
    "cur = conn.cursor()"
   ]
  },
  {
   "cell_type": "code",
   "execution_count": 4,
   "metadata": {
    "collapsed": false
   },
   "outputs": [],
   "source": [
    "for seed in range(NRUNS):\n",
    "    Transactions, Transactors, Statevariables, Variabletypes, Objects = baselineCDoubleAuction.stockMarketSimulation(seed=seed, \n",
    "                                                                                                                     simulation_time=100,\n",
    "                                    amount_fundamentalists=40, amount_chartists=40, amount_firms=1,\n",
    "                                    initial_money=(100, 200), initial_bid_ask=(0,0), initial_memory=(3,7),\n",
    "                                    initial_ma_short=(1,3), initial_ma_long=(6,7), initial_profit=(200,200),\n",
    "                                    initial_book_value=(10000, 10000), initial_stock_amount=400, order_expiration_time=120\n",
    "                                    )\n",
    "    Transactions.to_sql(\"Transactions{}\".format(seed), conn, if_exists=\"replace\")\n",
    "    Transactors.to_sql(\"Transactors{}\".format(seed), conn, if_exists=\"replace\")\n",
    "    Statevariables.to_sql(\"Statevariables{}\".format(seed), conn, if_exists=\"replace\")\n",
    "    Variabletypes.to_sql(\"Variabletypes{}\".format(seed), conn, if_exists=\"replace\")\n",
    "    Objects.to_sql(\"Objects{}\".format(seed), conn, if_exists=\"replace\")"
   ]
  },
  {
   "cell_type": "code",
   "execution_count": 12,
   "metadata": {
    "collapsed": true
   },
   "outputs": [],
   "source": [
    "conn.commit()\n",
    "cur.close()"
   ]
  }
 ],
 "metadata": {
  "kernelspec": {
   "display_name": "Python 3",
   "language": "python",
   "name": "python3"
  },
  "language_info": {
   "codemirror_mode": {
    "name": "ipython",
    "version": 3
   },
   "file_extension": ".py",
   "mimetype": "text/x-python",
   "name": "python",
   "nbconvert_exporter": "python",
   "pygments_lexer": "ipython3",
   "version": "3.5.2"
  }
 },
 "nbformat": 4,
 "nbformat_minor": 0
}

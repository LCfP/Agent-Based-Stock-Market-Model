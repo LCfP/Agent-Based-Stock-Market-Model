{
 "cells": [
  {
   "cell_type": "markdown",
   "metadata": {},
   "source": [
    "# Simulations\n",
    "In this iPython notebook, we run the double auction version of the model. "
   ]
  },
  {
   "cell_type": "code",
   "execution_count": 1,
   "metadata": {
    "collapsed": true
   },
   "outputs": [],
   "source": [
    "from ipywidgets import widgets, interact\n",
    "from stockmarket import baselineCDA\n",
    "import sqlite3\n",
    "from tqdm import *\n",
    "from stockmarket.database import create_CDA_tables, record_state_variables"
   ]
  },
  {
   "cell_type": "code",
   "execution_count": 2,
   "metadata": {
    "collapsed": true
   },
   "outputs": [],
   "source": [
    "NRUNS = 3\n",
    "EXPERIMENT_ID = 1\n",
    "EXPERIMENT = 0\n",
    "SIMULATIONTIME = 500"
   ]
  },
  {
   "cell_type": "code",
   "execution_count": 3,
   "metadata": {
    "collapsed": true
   },
   "outputs": [],
   "source": [
    "conn = sqlite3.connect('dataBaseCDAuction.sqlite')\n",
    "cur = conn.cursor()"
   ]
  },
  {
   "cell_type": "code",
   "execution_count": 4,
   "metadata": {
    "collapsed": false
   },
   "outputs": [
    {
     "name": "stderr",
     "output_type": "stream",
     "text": [
      "100%|████████████████████████████████████████████| 3/3 [01:35<00:00, 32.00s/it]\n"
     ]
    }
   ],
   "source": [
    "for seed in tqdm(range(NRUNS)):\n",
    "    create_CDA_tables(cur, seed)\n",
    "    agents, firms, stocks, order_books = baselineCDA.stockMarketSimulation(seed=seed, simulation_time=SIMULATIONTIME,\n",
    "                                                                           amount_fundamentalists=200, \n",
    "                                                                           amount_chartists=200, amount_firms=1,\n",
    "                                                                           initial_money=(100, 200), \n",
    "                                                                           initial_bid_ask=(1,1), \n",
    "                                                                           initial_memory=(3,7),\n",
    "                                                                           initial_ma_short=(1,3), \n",
    "                                                                           initial_ma_long=(6,7), \n",
    "                                                                           initial_profit=(200,200),\n",
    "                                                                           initial_book_value=(10000, 10000), \n",
    "                                                                           initial_stock_amount=400, \n",
    "                                                                           order_expiration_time=120,\n",
    "                                                                           init_propensity_to_switch=1.1,\n",
    "                                                                           firm_profit_mu=0.058,\n",
    "                                                                           firm_profit_delta=0.00396825396,\n",
    "                                                                           firm_profit_sigma=0.125\n",
    "                                                                          )\n",
    "    record_state_variables(cur, seed, agents, SIMULATIONTIME, firms, stocks, order_books)\n",
    "    conn.commit()"
   ]
  },
  {
   "cell_type": "code",
   "execution_count": 5,
   "metadata": {
    "collapsed": false
   },
   "outputs": [],
   "source": [
    "cur.close()"
   ]
  }
 ],
 "metadata": {
  "anaconda-cloud": {},
  "kernelspec": {
   "display_name": "Python 3",
   "language": "python",
   "name": "python3"
  },
  "language_info": {
   "codemirror_mode": {
    "name": "ipython",
    "version": 3
   },
   "file_extension": ".py",
   "mimetype": "text/x-python",
   "name": "python",
   "nbconvert_exporter": "python",
   "pygments_lexer": "ipython3",
   "version": "3.5.2"
  }
 },
 "nbformat": 4,
 "nbformat_minor": 0
}

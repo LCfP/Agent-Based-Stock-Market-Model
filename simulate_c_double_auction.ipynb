{
 "cells": [
  {
   "cell_type": "markdown",
   "metadata": {},
   "source": [
    "# Simulations\n",
    "In this iPython notebook, we run the double auction version of the model. "
   ]
  },
  {
   "cell_type": "code",
   "execution_count": 1,
   "metadata": {
    "collapsed": true
   },
   "outputs": [],
   "source": [
    "from ipywidgets import widgets, interact\n",
    "from stockmarket import baselineCDA\n",
    "import sqlite3\n",
    "#from tqdm import *\n",
    "from stockmarket.database import create_CDA_tables, record_state_variables"
   ]
  },
  {
   "cell_type": "code",
   "execution_count": 2,
   "metadata": {
    "collapsed": true
   },
   "outputs": [],
   "source": [
    "NRUNS = 10\n",
    "EXPERIMENT_ID = 1\n",
    "EXPERIMENT = 0\n",
    "SIMULATIONTIME = 100"
   ]
  },
  {
   "cell_type": "code",
   "execution_count": 3,
   "metadata": {
    "collapsed": true
   },
   "outputs": [],
   "source": [
    "conn = sqlite3.connect('dataBaseCDAuction.sqlite')\n",
    "cur = conn.cursor()"
   ]
  },
  {
   "cell_type": "code",
   "execution_count": 4,
   "metadata": {
    "collapsed": false
   },
   "outputs": [],
   "source": [
    "for seed in range(NRUNS):\n",
    "    create_CDA_tables(cur, seed)\n",
    "    agents, firms, stocks, order_books = baselineCDA.stockMarketSimulation(seed=seed, simulation_time=SIMULATIONTIME,\n",
    "                                                                           amount_fundamentalists=40, \n",
    "                                                                           amount_chartists=40, amount_firms=1,\n",
    "                                                                           initial_money=(100, 200), \n",
    "                                                                           initial_bid_ask=(1,1), \n",
    "                                                                           initial_memory=(3,7),\n",
    "                                                                           initial_ma_short=(1,3), \n",
    "                                                                           initial_ma_long=(6,7), \n",
    "                                                                           initial_profit=(200,200),\n",
    "                                                                           initial_book_value=(10000, 10000), \n",
    "                                                                           initial_stock_amount=400, \n",
    "                                                                           order_expiration_time=120\n",
    "                                                                          )\n",
    "    record_state_variables(cur, seed, agents, SIMULATIONTIME, firms, stocks, order_books)\n",
    "    conn.commit()"
   ]
  },
  {
   "cell_type": "code",
   "execution_count": 5,
   "metadata": {
    "collapsed": false
   },
   "outputs": [],
   "source": [
    "cur.close()"
   ]
  }
 ],
 "metadata": {
  "anaconda-cloud": {},
  "kernelspec": {
   "display_name": "Python [Root]",
   "language": "python",
   "name": "Python [Root]"
  },
  "language_info": {
   "codemirror_mode": {
    "name": "ipython",
    "version": 3
   },
   "file_extension": ".py",
   "mimetype": "text/x-python",
   "name": "python",
   "nbconvert_exporter": "python",
   "pygments_lexer": "ipython3",
   "version": "3.5.2"
  }
 },
 "nbformat": 4,
 "nbformat_minor": 0
}

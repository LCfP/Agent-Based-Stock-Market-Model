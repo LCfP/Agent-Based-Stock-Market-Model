{
 "cells": [
  {
   "cell_type": "code",
   "execution_count": 1,
   "metadata": {
    "collapsed": false
   },
   "outputs": [],
   "source": [
    "from stockmarket.limitorderbook import *\n",
    "from stockmarket.agent import Trader\n",
    "from stockmarket.firms import Firm\n",
    "from stockmarket.stock import Stock"
   ]
  },
  {
   "cell_type": "code",
   "execution_count": 2,
   "metadata": {
    "collapsed": true
   },
   "outputs": [],
   "source": [
    "from numpy.testing import assert_equal\n",
    "from numpy.testing import assert_raises\n",
    "import operator\n",
    "from stockmarket import functions, setup, marketmechanisms, randomset, database\n",
    "import random"
   ]
  },
  {
   "cell_type": "code",
   "execution_count": 3,
   "metadata": {
    "collapsed": true
   },
   "outputs": [],
   "source": [
    "from stockmarket.functions import div0"
   ]
  },
  {
   "cell_type": "markdown",
   "metadata": {},
   "source": [
    "## To test\n",
    "1. setup orderbook\n",
    "2. run model"
   ]
  },
  {
   "cell_type": "markdown",
   "metadata": {},
   "source": [
    "## setup orderbook"
   ]
  },
  {
   "cell_type": "code",
   "execution_count": 7,
   "metadata": {
    "collapsed": true
   },
   "outputs": [],
   "source": [
    "assert_equal(div0(10, 4), 2.5)"
   ]
  },
  {
   "cell_type": "code",
   "execution_count": 49,
   "metadata": {
    "collapsed": false
   },
   "outputs": [],
   "source": [
    "seed=1\n",
    "simulation_time=100\n",
    "amount_fundamentalists=40\n",
    "amount_chartists=40\n",
    "amount_firms=3\n",
    "initial_money=(100, 200)\n",
    "initial_bid_ask=(0,0)\n",
    "initial_memory=(3,7)\n",
    "initial_ma_short=(1,3)\n",
    "initial_ma_long=(6,7)\n",
    "initial_profit=(200,200)\n",
    "initial_book_value=(10000, 10000)\n",
    "initial_stock_amount=400\n",
    "observable_set_size=3"
   ]
  },
  {
   "cell_type": "code",
   "execution_count": 50,
   "metadata": {
    "collapsed": false
   },
   "outputs": [],
   "source": [
    "agents = setup.setup_agents(init_money=initial_money,\n",
    "                                init_bid_ask_spread=initial_bid_ask,\n",
    "                                init_memory_size=initial_memory,\n",
    "                                init_ma_s=initial_ma_short,\n",
    "                                init_ma_l=initial_ma_long,\n",
    "                                fundamentalist=amount_fundamentalists,\n",
    "                                chartist=amount_chartists)\n",
    "\n",
    "firms = setup.setup_firms(init_book_value=initial_book_value,\n",
    "                              init_profit=initial_profit,\n",
    "                              amount_of_firms=amount_firms)\n",
    "\n",
    "stocks = setup.setup_stocks(firms, amount=initial_stock_amount)\n",
    "\n",
    "order_books = []\n",
    "for stock in stocks:\n",
    "    order_books.append(LimitOrderBook(stock, 100, 120))\n",
    "\n",
    "setup.distribute_initial_stocks(stocks, agents)"
   ]
  },
  {
   "cell_type": "code",
   "execution_count": 39,
   "metadata": {
    "collapsed": false
   },
   "outputs": [
    {
     "data": {
      "text/plain": [
       "order_book_Stock of 2"
      ]
     },
     "execution_count": 39,
     "metadata": {},
     "output_type": "execute_result"
    }
   ],
   "source": [
    "order_books[2]"
   ]
  },
  {
   "cell_type": "code",
   "execution_count": null,
   "metadata": {
    "collapsed": true
   },
   "outputs": [],
   "source": []
  },
  {
   "cell_type": "markdown",
   "metadata": {},
   "source": [
    "### 1 create new limitorderBook"
   ]
  },
  {
   "cell_type": "code",
   "execution_count": 3,
   "metadata": {
    "collapsed": true
   },
   "outputs": [],
   "source": [
    "# create a firm\n",
    "firm = Firm(\"Firm1\", 10000, [200, 300, 400, 300], 1)\n",
    "# create a stock of that firm\n",
    "stocks = Stock(firm, 1000)"
   ]
  },
  {
   "cell_type": "code",
   "execution_count": 4,
   "metadata": {
    "collapsed": true
   },
   "outputs": [],
   "source": [
    "# create new limitOrderBook\n",
    "order_book = LimitOrderBook(stocks, 100, 120)"
   ]
  },
  {
   "cell_type": "code",
   "execution_count": 5,
   "metadata": {
    "collapsed": false
   },
   "outputs": [
    {
     "data": {
      "text/plain": [
       "order_book_Stock of Firm1"
      ]
     },
     "execution_count": 5,
     "metadata": {},
     "output_type": "execute_result"
    }
   ],
   "source": [
    "order_book"
   ]
  },
  {
   "cell_type": "markdown",
   "metadata": {},
   "source": [
    "### 2 add bids to the limit orderbook\n",
    "* The highest bid should be at the end of the list.\n",
    "* For bids of equal value, the oldest bid should be at the top"
   ]
  },
  {
   "cell_type": "code",
   "execution_count": 6,
   "metadata": {
    "collapsed": false
   },
   "outputs": [
    {
     "data": {
      "text/plain": [
       "[Order_p=10_t=b_o=trader-1_a=0]"
      ]
     },
     "execution_count": 6,
     "metadata": {},
     "output_type": "execute_result"
    }
   ],
   "source": [
    "order_book.add_bid(10, 20, 'trader-1')\n",
    "order_book.bids"
   ]
  },
  {
   "cell_type": "code",
   "execution_count": 7,
   "metadata": {
    "collapsed": false
   },
   "outputs": [
    {
     "data": {
      "text/plain": [
       "[Order_p=5_t=b_o=trader-2_a=0, Order_p=10_t=b_o=trader-1_a=0]"
      ]
     },
     "execution_count": 7,
     "metadata": {},
     "output_type": "execute_result"
    }
   ],
   "source": [
    "order_book.add_bid(5, 20, 'trader-2')\n",
    "order_book.bids"
   ]
  },
  {
   "cell_type": "code",
   "execution_count": 8,
   "metadata": {
    "collapsed": false
   },
   "outputs": [
    {
     "data": {
      "text/plain": [
       "[Order_p=5_t=b_o=trader-2_a=0,\n",
       " Order_p=7_t=b_o=trader-3_a=0,\n",
       " Order_p=10_t=b_o=trader-1_a=0]"
      ]
     },
     "execution_count": 8,
     "metadata": {},
     "output_type": "execute_result"
    }
   ],
   "source": [
    "order_book.add_bid(7, 20, 'trader-3')\n",
    "order_book.bids"
   ]
  },
  {
   "cell_type": "code",
   "execution_count": 9,
   "metadata": {
    "collapsed": false
   },
   "outputs": [
    {
     "data": {
      "text/plain": [
       "[Order_p=5_t=b_o=trader-2_a=0,\n",
       " Order_p=7_t=b_o=trader-4_a=0,\n",
       " Order_p=7_t=b_o=trader-3_a=0,\n",
       " Order_p=10_t=b_o=trader-1_a=0]"
      ]
     },
     "execution_count": 9,
     "metadata": {},
     "output_type": "execute_result"
    }
   ],
   "source": [
    "order_book.add_bid(7, 20, 'trader-4')\n",
    "order_book.bids"
   ]
  },
  {
   "cell_type": "code",
   "execution_count": 10,
   "metadata": {
    "collapsed": false
   },
   "outputs": [
    {
     "data": {
      "text/plain": [
       "[Order_p=5_t=b_o=trader-2_a=0,\n",
       " Order_p=7_t=b_o=trader-5_a=0,\n",
       " Order_p=7_t=b_o=trader-4_a=0,\n",
       " Order_p=7_t=b_o=trader-3_a=0,\n",
       " Order_p=10_t=b_o=trader-1_a=0]"
      ]
     },
     "execution_count": 10,
     "metadata": {},
     "output_type": "execute_result"
    }
   ],
   "source": [
    "order_book.add_bid(7, 20, 'trader-5')\n",
    "order_book.bids"
   ]
  },
  {
   "cell_type": "code",
   "execution_count": 11,
   "metadata": {
    "collapsed": false
   },
   "outputs": [
    {
     "data": {
      "text/plain": [
       "5"
      ]
     },
     "execution_count": 11,
     "metadata": {},
     "output_type": "execute_result"
    }
   ],
   "source": [
    "order_book.bids[0].price"
   ]
  },
  {
   "cell_type": "code",
   "execution_count": 12,
   "metadata": {
    "collapsed": false
   },
   "outputs": [],
   "source": [
    "assert_equal(order_book.bids[0].price, 5)\n",
    "assert_equal(order_book.bids[-1].price, 10)"
   ]
  },
  {
   "cell_type": "code",
   "execution_count": 13,
   "metadata": {
    "collapsed": true
   },
   "outputs": [],
   "source": [
    "assert_equal(order_book.bids[-2].owner, 'trader-3')"
   ]
  },
  {
   "cell_type": "markdown",
   "metadata": {},
   "source": [
    "### 3 Add aks to the limit order book\n",
    "* The lowest ask should be at the beginning of the list.\n",
    "* For asks of equal value, the oldest ask should be at the bottom"
   ]
  },
  {
   "cell_type": "code",
   "execution_count": 14,
   "metadata": {
    "collapsed": false
   },
   "outputs": [
    {
     "data": {
      "text/plain": [
       "[Order_p=11_t=a_o=trader-1_a=0]"
      ]
     },
     "execution_count": 14,
     "metadata": {},
     "output_type": "execute_result"
    }
   ],
   "source": [
    "order_book.add_ask(11, 20, 'trader-1')\n",
    "order_book.asks"
   ]
  },
  {
   "cell_type": "code",
   "execution_count": 15,
   "metadata": {
    "collapsed": false
   },
   "outputs": [
    {
     "data": {
      "text/plain": [
       "[Order_p=5_t=a_o=trader-2_a=0,\n",
       " Order_p=7_t=a_o=trader-3_a=0,\n",
       " Order_p=7_t=a_o=trader-4_a=0,\n",
       " Order_p=7_t=a_o=trader-5_a=0,\n",
       " Order_p=11_t=a_o=trader-1_a=0]"
      ]
     },
     "execution_count": 15,
     "metadata": {},
     "output_type": "execute_result"
    }
   ],
   "source": [
    "order_book.add_ask(5, 20, 'trader-2')\n",
    "order_book.add_ask(7, 20, 'trader-3')\n",
    "order_book.add_ask(7, 20, 'trader-4')\n",
    "order_book.add_ask(7, 20, 'trader-5')\n",
    "order_book.asks"
   ]
  },
  {
   "cell_type": "code",
   "execution_count": 16,
   "metadata": {
    "collapsed": false
   },
   "outputs": [],
   "source": [
    "# highest ask is 11\n",
    "assert_equal(order_book.asks[-1].price, 11)\n",
    "# lowest ask is 5\n",
    "assert_equal(order_book.asks[0].price, 5)\n",
    "# second highest ask trader = trader-5\n",
    "assert_equal(order_book.asks[-2].owner, 'trader-5')"
   ]
  },
  {
   "cell_type": "markdown",
   "metadata": {},
   "source": [
    "### 4 clean aging bids and asks"
   ]
  },
  {
   "cell_type": "code",
   "execution_count": 54,
   "metadata": {
    "collapsed": true
   },
   "outputs": [],
   "source": [
    "import numpy as np"
   ]
  },
  {
   "cell_type": "code",
   "execution_count": 60,
   "metadata": {
    "collapsed": false
   },
   "outputs": [
    {
     "data": {
      "text/plain": [
       "False"
      ]
     },
     "execution_count": 60,
     "metadata": {},
     "output_type": "execute_result"
    }
   ],
   "source": [
    "np.isfinite(np.inf)"
   ]
  },
  {
   "cell_type": "code",
   "execution_count": 51,
   "metadata": {
    "collapsed": true
   },
   "outputs": [],
   "source": [
    "for n in range(120):\n",
    "    order_book.clean_book()"
   ]
  },
  {
   "cell_type": "code",
   "execution_count": 52,
   "metadata": {
    "collapsed": false
   },
   "outputs": [
    {
     "name": "stdout",
     "output_type": "stream",
     "text": [
      "(5, 20, Order_p=10_t=b_o=trader-1_a=0, Order_p=5_t=a_o=trader-2_a=0)\n",
      "i am getting out\n"
     ]
    }
   ],
   "source": [
    "order_book.add_bid(10, 20, 'trader-1')\n",
    "order_book.add_bid(5, 20, 'trader-2')\n",
    "order_book.add_ask(11, 20, 'trader-1')\n",
    "order_book.add_ask(5, 20, 'trader-2')\n",
    "matched_orders = 0\n",
    "while True:\n",
    "    matched_orders = order_book.match_orders()\n",
    "    if matched_orders is None:\n",
    "        print('i am getting out')\n",
    "        break\n",
    "    print(matched_orders)"
   ]
  },
  {
   "cell_type": "code",
   "execution_count": 46,
   "metadata": {
    "collapsed": false
   },
   "outputs": [
    {
     "name": "stdout",
     "output_type": "stream",
     "text": [
      "None\n"
     ]
    }
   ],
   "source": [
    "print(matched_orders)"
   ]
  },
  {
   "cell_type": "code",
   "execution_count": 18,
   "metadata": {
    "collapsed": false
   },
   "outputs": [],
   "source": [
    "order_book.add_bid(10, 20, 'trader-1')\n",
    "order_book.add_bid(5, 20, 'trader-2')\n",
    "order_book.add_ask(11, 20, 'trader-1')\n",
    "order_book.add_ask(5, 20, 'trader-2')\n",
    "for n in range(119):\n",
    "    order_book.clean_book()\n",
    "assert_equal(len(order_book.bids), 2)\n",
    "assert_equal(len(order_book.asks), 2)\n",
    "order_book.clean_book()\n",
    "assert_equal(len(order_book.bids), 0)\n",
    "assert_equal(len(order_book.asks), 0)"
   ]
  },
  {
   "cell_type": "markdown",
   "metadata": {},
   "source": [
    "### 5 match the best bid with the best ask and remove them "
   ]
  },
  {
   "cell_type": "markdown",
   "metadata": {},
   "source": [
    "### Test if initial orders are properly dealt with"
   ]
  },
  {
   "cell_type": "code",
   "execution_count": 28,
   "metadata": {
    "collapsed": false
   },
   "outputs": [],
   "source": [
    "# add some asks\n",
    "order_book.add_ask(5, 20, 'trader-2')\n",
    "order_book.add_ask(7, 20, 'trader-3')\n",
    "order_book.add_ask(7, 20, 'trader-4')\n",
    "order_book.add_ask(7, 20, 'trader-5')\n",
    "# and bids\n",
    "order_book.add_bid(10, 20, 'trader-1')\n",
    "order_book.add_bid(4, 20, 'trader-11')\n",
    "order_book.add_bid(9, 20, 'trader-11')\n",
    "matched_orders = order_book.match_orders()\n",
    "# after an orderbook match both order books are reduced by 1\n",
    "assert_equal(len(order_book.bids), 2)\n",
    "assert_equal(len(order_book.asks), 3)\n",
    "# and the highest bid was matched to the lowest ask, difference is 5\n",
    "assert_equal(matched_orders[2].price - matched_orders[3].price, 5)\n",
    "# the second match is bid p9 and ask p7, difference is 2\n",
    "matched_orders = order_book.match_orders()\n",
    "assert_equal(matched_orders[2].price - matched_orders[3].price, 2)\n",
    "# Once again the order books are reduced by 1 in size\n",
    "assert_equal(len(order_book.bids), 1)\n",
    "assert_equal(len(order_book.asks), 2)\n",
    "# then no more match is possible \n",
    "matched_orders = order_book.match_orders()\n",
    "assert_equal(matched_orders, None)\n",
    "for n in range(500):\n",
    "    order_book.clean_book()\n",
    "order_book.add_ask(5, 10, 'trader-2')\n",
    "order_book.add_ask(7, 8, 'trader-3')\n",
    "order_book.add_bid(10, 20, 'trader-1')\n",
    "# first match should reduce asks book by 1\n",
    "matched_orders = order_book.match_orders()\n",
    "assert_equal(len(order_book.bids), 1)\n",
    "assert_equal(len(order_book.asks), 1)\n",
    "assert_equal(matched_orders[2].price - matched_orders[3].price, 5)\n",
    "# the bid should have a remaining volume of 10\n",
    "assert_equal(order_book.bids[0].volume, 10)\n",
    "# second match \n",
    "matched_orders = order_book.match_orders()\n",
    "# should reduce the lenght of the asks book to zero and bids should remain 1\n",
    "assert_equal(len(order_book.bids), 1)\n",
    "assert_equal(len(order_book.asks), 0)\n",
    "# the bid should have a remaining volume of 2\n",
    "assert_equal(order_book.bids[0].volume, 2)\n",
    "# price should be 7 and volume 8\n",
    "assert_equal(matched_orders[0], 7)\n",
    "assert_equal(matched_orders[1], 8)\n",
    "# no more matches should be possible, leaving the order in the orderbook\n",
    "assert_equal(order_book.match_orders(), None)"
   ]
  },
  {
   "cell_type": "code",
   "execution_count": 27,
   "metadata": {
    "collapsed": false
   },
   "outputs": [],
   "source": [
    "# clean order book\n",
    "for n in range(500):\n",
    "    order_book.clean_book()"
   ]
  },
  {
   "cell_type": "markdown",
   "metadata": {},
   "source": [
    "# 2 Implement in model "
   ]
  },
  {
   "cell_type": "code",
   "execution_count": 21,
   "metadata": {
    "collapsed": false
   },
   "outputs": [],
   "source": []
  },
  {
   "cell_type": "code",
   "execution_count": null,
   "metadata": {
    "collapsed": true
   },
   "outputs": [],
   "source": [
    "# reduce both bid and ask by volume"
   ]
  },
  {
   "cell_type": "code",
   "execution_count": null,
   "metadata": {
    "collapsed": true
   },
   "outputs": [],
   "source": []
  }
 ],
 "metadata": {
  "kernelspec": {
   "display_name": "Python 3",
   "language": "python",
   "name": "python3"
  },
  "language_info": {
   "codemirror_mode": {
    "name": "ipython",
    "version": 3
   },
   "file_extension": ".py",
   "mimetype": "text/x-python",
   "name": "python",
   "nbconvert_exporter": "python",
   "pygments_lexer": "ipython3",
   "version": "3.5.2"
  }
 },
 "nbformat": 4,
 "nbformat_minor": 0
}

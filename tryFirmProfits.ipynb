{
 "cells": [
  {
   "cell_type": "markdown",
   "metadata": {},
   "source": [
    "# Firm profits\n",
    "\n",
    "1. simulate firm profits \n",
    "2. collect stylized facts\n",
    "3. replicate stylized facts"
   ]
  },
  {
   "cell_type": "code",
   "execution_count": 96,
   "metadata": {
    "collapsed": true
   },
   "outputs": [],
   "source": [
    "%matplotlib inline\n",
    "from stockmarket.firms import Firm\n",
    "from numpy.testing import assert_equal\n",
    "from stockmarket import setup\n",
    "import matplotlib.pyplot as plt\n",
    "import math\n",
    "import numpy as np\n",
    "import random\n",
    "import decimal\n",
    "import scipy.linalg\n",
    "import numpy.random as nrand\n",
    "import pandas as pd"
   ]
  },
  {
   "cell_type": "markdown",
   "metadata": {},
   "source": [
    "# Geometric brownian motion"
   ]
  },
  {
   "cell_type": "code",
   "execution_count": 2,
   "metadata": {
    "collapsed": true
   },
   "outputs": [],
   "source": [
    "initial_profit=1000\n",
    "time=800\n",
    "all_delta=0.00396825396\n",
    "all_sigma=0.125\n",
    "gbm_mu=0.058"
   ]
  },
  {
   "cell_type": "code",
   "execution_count": 3,
   "metadata": {
    "collapsed": true
   },
   "outputs": [],
   "source": [
    "def determine_profit(previous_profit, all_delta, all_sigma, gbm_mu):\n",
    "    \"\"\"Determines the next profit according to a geometric brownian motion\"\"\"\n",
    "    sqrt_delta_sigma = math.sqrt(all_delta) * all_sigma\n",
    "    brownian_motion = nrand.normal(loc=0, scale=sqrt_delta_sigma)\n",
    "    sigma_pow_mu_delta = (gbm_mu - 0.5 * math.pow(all_sigma, 2.0)) * all_delta\n",
    "    geometric_brownian_motion_log_return = brownian_motion + sigma_pow_mu_delta\n",
    "    retur = np.exp(geometric_brownian_motion_log_return)\n",
    "    nextProfit = previous_profit * retur\n",
    "    return nextProfit"
   ]
  },
  {
   "cell_type": "code",
   "execution_count": 4,
   "metadata": {
    "collapsed": false
   },
   "outputs": [
    {
     "data": {
      "text/plain": [
       "1004.0245946951565"
      ]
     },
     "execution_count": 4,
     "metadata": {},
     "output_type": "execute_result"
    }
   ],
   "source": [
    "determine_profit(initial_profit, all_delta, all_sigma, gbm_mu)"
   ]
  },
  {
   "cell_type": "code",
   "execution_count": 5,
   "metadata": {
    "collapsed": false
   },
   "outputs": [],
   "source": [
    "profits = [initial_profit]\n",
    "for i in range(time):\n",
    "    profits.append(determine_profit(profits[-1], all_delta, all_sigma, gbm_mu))"
   ]
  },
  {
   "cell_type": "markdown",
   "metadata": {},
   "source": [
    "# Test on firms"
   ]
  },
  {
   "cell_type": "code",
   "execution_count": null,
   "metadata": {
    "collapsed": true
   },
   "outputs": [],
   "source": []
  },
  {
   "cell_type": "code",
   "execution_count": 8,
   "metadata": {
    "collapsed": false
   },
   "outputs": [],
   "source": [
    "firm = Firm(name=\"test\", book_value=10000, profits=[100], mu=0.03, brownian_delta=0.25,\n",
    "                brownian_sigma=0.1, dividend_rate=1)\n",
    "firm.update_profits(105)\n",
    "assert_equal([firm.profit, firm.profit_history], [105, [100, 105]])"
   ]
  },
  {
   "cell_type": "code",
   "execution_count": 93,
   "metadata": {
    "collapsed": false
   },
   "outputs": [],
   "source": [
    "firms = setup.setup_firms(init_book_value=(10000,10000),\n",
    "                              init_profit=(200,200),\n",
    "                              firm_profit_mu=0.058,\n",
    "                              firm_profit_delta=0.00396825396,\n",
    "                              firm_profit_sigma=0.125,\n",
    "                              amount_of_firms=1\n",
    "                              )"
   ]
  },
  {
   "cell_type": "code",
   "execution_count": 94,
   "metadata": {
    "collapsed": false
   },
   "outputs": [],
   "source": [
    "for t in range(time):\n",
    "    for f in firms:\n",
    "        profit = f.determine_profit()\n",
    "        f.update_profits(profit)"
   ]
  },
  {
   "cell_type": "code",
   "execution_count": 95,
   "metadata": {
    "collapsed": false
   },
   "outputs": [
    {
     "data": {
      "text/plain": [
       "<matplotlib.text.Text at 0x19858f1e748>"
      ]
     },
     "execution_count": 95,
     "metadata": {},
     "output_type": "execute_result"
    },
    {
     "data": {
      "image/png": "[encoded data removed]",
      "text/plain": [
       "<matplotlib.figure.Figure at 0x19858ed86d8>"
      ]
     },
     "metadata": {},
     "output_type": "display_data"
    }
   ],
   "source": [
    "profits = firms[0].profit_history\n",
    "\n",
    "fig, ax1 = plt.subplots(1, 1, figsize=(10,5))\n",
    "\n",
    "ax1.plot(range(len(profits)), profits)\n",
    "\n",
    "ax1.set_xlabel('(Simulation time)', fontsize='14')"
   ]
  },
  {
   "cell_type": "markdown",
   "metadata": {
    "collapsed": true
   },
   "source": [
    "# Stylized facts\n",
    "1. autocorrelations\n",
    "2. Kurtosis "
   ]
  },
  {
   "cell_type": "code",
   "execution_count": 98,
   "metadata": {
    "collapsed": false
   },
   "outputs": [],
   "source": [
    "profitsSeries = pd.Series(firms[0].profit_history)"
   ]
  },
  {
   "cell_type": "code",
   "execution_count": 104,
   "metadata": {
    "collapsed": false
   },
   "outputs": [
    {
     "data": {
      "text/plain": [
       "0.034053474586893111"
      ]
     },
     "execution_count": 104,
     "metadata": {},
     "output_type": "execute_result"
    }
   ],
   "source": [
    "profitsSeries.diff()[1:].autocorr()"
   ]
  },
  {
   "cell_type": "code",
   "execution_count": 106,
   "metadata": {
    "collapsed": false
   },
   "outputs": [
    {
     "data": {
      "text/plain": [
       "0.22243944196732013"
      ]
     },
     "execution_count": 106,
     "metadata": {},
     "output_type": "execute_result"
    }
   ],
   "source": [
    "profitsSeries.diff().kurtosis()"
   ]
  }
 ],
 "metadata": {
  "anaconda-cloud": {},
  "kernelspec": {
   "display_name": "Python [Root]",
   "language": "python",
   "name": "Python [Root]"
  },
  "language_info": {
   "codemirror_mode": {
    "name": "ipython",
    "version": 3
   },
   "file_extension": ".py",
   "mimetype": "text/x-python",
   "name": "python",
   "nbconvert_exporter": "python",
   "pygments_lexer": "ipython3",
   "version": "3.5.2"
  }
 },
 "nbformat": 4,
 "nbformat_minor": 0
}

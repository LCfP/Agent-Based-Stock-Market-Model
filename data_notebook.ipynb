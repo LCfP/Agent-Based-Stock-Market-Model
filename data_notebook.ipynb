{
 "cells": [
  {
   "cell_type": "markdown",
   "metadata": {},
   "source": [
    "# Data analysis\n",
    "In this iPython notebook, we analyse the data produced by the basic stock market model\n",
    "\n",
    "* Price versus time (check)\n",
    "* volatility of price  / std versus time (check)\n",
    "* 4 color codes: chartist fundamentalist transactions \n",
    "* plot fundamental values "
   ]
  },
  {
   "cell_type": "code",
   "execution_count": 1,
   "metadata": {
    "collapsed": true
   },
   "outputs": [],
   "source": [
    "%matplotlib inline\n",
    "import sqlite3\n",
    "import pandas as pd\n",
    "import numpy as np\n",
    "import matplotlib.pyplot as plt\n",
    "from matplotlib import style\n",
    "import ast\n",
    "import json\n",
    "import re\n",
    "style.use('seaborn-darkgrid')"
   ]
  },
  {
   "cell_type": "markdown",
   "metadata": {},
   "source": [
    "First, I open a connection to the database"
   ]
  },
  {
   "cell_type": "code",
   "execution_count": 2,
   "metadata": {
    "collapsed": false
   },
   "outputs": [],
   "source": [
    "#%cd C:/Users/joerischasfoort/Documents/GitHub/abm/"
   ]
  },
  {
   "cell_type": "code",
   "execution_count": 3,
   "metadata": {
    "collapsed": true
   },
   "outputs": [],
   "source": [
    "conn = sqlite3.connect('dataBaseCDA.sqlite')\n",
    "cur = conn.cursor()"
   ]
  },
  {
   "cell_type": "code",
   "execution_count": 4,
   "metadata": {
    "collapsed": true
   },
   "outputs": [],
   "source": [
    "NRUNS = 1"
   ]
  },
  {
   "cell_type": "markdown",
   "metadata": {},
   "source": [
    "## 1 State variables \n",
    "Using the Statevariables, Variabletypes and Objects tables, I then analyse the state variables of the simulated objects: stocks, firms, and traders. \n",
    "### 1.1 Stocks \n",
    "The state variables of stocks are: \n",
    "* the firm the stock links to,\n",
    "* the face value,\n",
    "* the amount of stocks outstanding. \n",
    "\n",
    "In this version of the model these variables are static. "
   ]
  },
  {
   "cell_type": "code",
   "execution_count": 5,
   "metadata": {
    "collapsed": true
   },
   "outputs": [],
   "source": [
    "stockVariables = []\n",
    "for seed in range(NRUNS):\n",
    "    stockVariables.append(pd.read_sql_query(\n",
    "    \"\"\"\n",
    "    SELECT Statevariables{0}.seed ,Statevariables{0}.period, Variabletypes{0}.variable_type, Objects{0}.object_name, Objects{0}.object_type ,Statevariables{0}.value \n",
    "    FROM Statevariables{0} JOIN Variabletypes{0} JOIN Objects{0} ON Statevariables{0}.variable_id = Variabletypes{0}.id and Statevariables{0}.owner_id = Objects{0}.id \n",
    "    WHERE Objects{0}.object_type = 'stock'\n",
    "    \"\"\".format(seed), conn))"
   ]
  },
  {
   "cell_type": "code",
   "execution_count": 6,
   "metadata": {
    "collapsed": false
   },
   "outputs": [],
   "source": [
    "stockVariables = pd.concat(stockVariables)"
   ]
  },
  {
   "cell_type": "code",
   "execution_count": 7,
   "metadata": {
    "collapsed": false
   },
   "outputs": [],
   "source": [
    "stocks = {}\n",
    "for seed in range(NRUNS):\n",
    "    allStocks = []\n",
    "    for stock in set(stockVariables['object_name']):\n",
    "        allStocks.append(stockVariables.query('variable_type == \"amount\" and object_name == \"{}\" and seed == {}'.format(stock, seed))['value'])\n",
    "    stocks['run_' + str(seed)] = allStocks"
   ]
  },
  {
   "cell_type": "code",
   "execution_count": 8,
   "metadata": {
    "collapsed": true
   },
   "outputs": [],
   "source": [
    "facevalues = {}\n",
    "for seed in range(NRUNS):\n",
    "    allStocks = []\n",
    "    for stock in set(stockVariables['object_name']):\n",
    "        allStocks.append(stockVariables.query('variable_type == \"face_value\" and object_name == \"{}\" and seed == {}'.format(stock, seed))['value'])\n",
    "    facevalues['run_' + str(seed)] = allStocks"
   ]
  },
  {
   "cell_type": "code",
   "execution_count": 9,
   "metadata": {
    "collapsed": false
   },
   "outputs": [
    {
     "data": {
      "text/plain": [
       "<matplotlib.text.Text at 0xa0e4ef0>"
      ]
     },
     "execution_count": 9,
     "metadata": {},
     "output_type": "execute_result"
    },
    {
     "data": {
      "image/png": "[encoded data removed]",
      "text/plain": [
       "<matplotlib.figure.Figure at 0x9d589b0>"
      ]
     },
     "metadata": {},
     "output_type": "display_data"
    }
   ],
   "source": [
    "fig = plt.figure(figsize=(10,5))\n",
    "ax1 = fig.add_subplot(121)\n",
    "ax2 = fig.add_subplot(122)\n",
    "\n",
    "for stock in stocks['run_0']:\n",
    "    ax1.plot(range(len(stock)), stock.apply(int))\n",
    "\n",
    "for faceVal in facevalues['run_0']:\n",
    "    ax2.plot(range(len(faceVal)), faceVal.apply(float))\n",
    "\n",
    "ax1.set_xlabel('(Simulation time)', fontsize='14')\n",
    "ax2.set_xlabel('(Simulation time)', fontsize='14')\n",
    "ax1.set_ylabel('amount_of stocks outstanding', fontsize='14')\n",
    "ax2.set_ylabel('stock facevalue', fontsize='14')\n",
    "\n",
    "#ax1.legend(loc=2, fontsize='14')"
   ]
  },
  {
   "cell_type": "markdown",
   "metadata": {},
   "source": [
    "### 1.2 Firms \n",
    "The state variables of firms are: \n",
    "* profit\n",
    "* bookvalue (*fixed*), \n",
    "* dividend rate (*fixed*)."
   ]
  },
  {
   "cell_type": "code",
   "execution_count": 10,
   "metadata": {
    "collapsed": true
   },
   "outputs": [],
   "source": [
    "firmVariables = []\n",
    "for seed in range(NRUNS):\n",
    "    firmVariables.append(pd.read_sql_query(\n",
    "    \"\"\"\n",
    "    SELECT Statevariables{0}.seed ,Statevariables{0}.period, Variabletypes{0}.variable_type, Objects{0}.object_name, Objects{0}.object_type, Statevariables{0}.value \n",
    "    FROM Statevariables{0} JOIN Variabletypes{0} JOIN Objects{0} \n",
    "    ON Statevariables{0}.variable_id = Variabletypes{0}.id and Statevariables{0}.owner_id = Objects{0}.id \n",
    "    WHERE Objects{0}.object_type = 'firm'\n",
    "    \"\"\".format(seed), conn))"
   ]
  },
  {
   "cell_type": "code",
   "execution_count": 11,
   "metadata": {
    "collapsed": true
   },
   "outputs": [],
   "source": [
    "firmVariables = pd.concat(firmVariables)"
   ]
  },
  {
   "cell_type": "code",
   "execution_count": 12,
   "metadata": {
    "collapsed": false
   },
   "outputs": [
    {
     "data": {
      "text/html": [
       "<div>\n",
       "<table border=\"1\" class=\"dataframe\">\n",
       "  <thead>\n",
       "    <tr style=\"text-align: right;\">\n",
       "      <th></th>\n",
       "      <th>seed</th>\n",
       "      <th>period</th>\n",
       "      <th>variable_type</th>\n",
       "      <th>object_name</th>\n",
       "      <th>object_type</th>\n",
       "      <th>value</th>\n",
       "    </tr>\n",
       "  </thead>\n",
       "  <tbody>\n",
       "    <tr>\n",
       "      <th>0</th>\n",
       "      <td>0</td>\n",
       "      <td>0</td>\n",
       "      <td>book_value</td>\n",
       "      <td>firm_0</td>\n",
       "      <td>firm</td>\n",
       "      <td>10000</td>\n",
       "    </tr>\n",
       "    <tr>\n",
       "      <th>1</th>\n",
       "      <td>0</td>\n",
       "      <td>0</td>\n",
       "      <td>name</td>\n",
       "      <td>firm_0</td>\n",
       "      <td>firm</td>\n",
       "      <td>0</td>\n",
       "    </tr>\n",
       "    <tr>\n",
       "      <th>2</th>\n",
       "      <td>0</td>\n",
       "      <td>0</td>\n",
       "      <td>profit_history</td>\n",
       "      <td>firm_0</td>\n",
       "      <td>firm</td>\n",
       "      <td>[200, 204, 206, 203, 198, 207, 196, 192]</td>\n",
       "    </tr>\n",
       "    <tr>\n",
       "      <th>3</th>\n",
       "      <td>0</td>\n",
       "      <td>0</td>\n",
       "      <td>dividend_rate</td>\n",
       "      <td>firm_0</td>\n",
       "      <td>firm</td>\n",
       "      <td>1</td>\n",
       "    </tr>\n",
       "    <tr>\n",
       "      <th>4</th>\n",
       "      <td>0</td>\n",
       "      <td>0</td>\n",
       "      <td>profit</td>\n",
       "      <td>firm_0</td>\n",
       "      <td>firm</td>\n",
       "      <td>192</td>\n",
       "    </tr>\n",
       "  </tbody>\n",
       "</table>\n",
       "</div>"
      ],
      "text/plain": [
       "   seed  period   variable_type object_name object_type  \\\n",
       "0     0       0      book_value      firm_0        firm   \n",
       "1     0       0            name      firm_0        firm   \n",
       "2     0       0  profit_history      firm_0        firm   \n",
       "3     0       0   dividend_rate      firm_0        firm   \n",
       "4     0       0          profit      firm_0        firm   \n",
       "\n",
       "                                      value  \n",
       "0                                     10000  \n",
       "1                                         0  \n",
       "2  [200, 204, 206, 203, 198, 207, 196, 192]  \n",
       "3                                         1  \n",
       "4                                       192  "
      ]
     },
     "execution_count": 12,
     "metadata": {},
     "output_type": "execute_result"
    }
   ],
   "source": [
    "firmVariables.head()"
   ]
  },
  {
   "cell_type": "code",
   "execution_count": 13,
   "metadata": {
    "collapsed": false
   },
   "outputs": [],
   "source": [
    "firms = {}\n",
    "for seed in range(NRUNS):\n",
    "    allFirms = []\n",
    "    for firm in set(firmVariables['object_name']):\n",
    "        allFirms.append(firmVariables.query('variable_type == \"profit\" and object_name == \"{}\" and seed == {}'.format(firm, seed))['value'])\n",
    "    firms['run_' + str(seed)] = allFirms"
   ]
  },
  {
   "cell_type": "markdown",
   "metadata": {},
   "source": [
    "#### 1.2.1 Firm profits"
   ]
  },
  {
   "cell_type": "code",
   "execution_count": 14,
   "metadata": {
    "collapsed": false
   },
   "outputs": [
    {
     "data": {
      "text/plain": [
       "<matplotlib.legend.Legend at 0xa1a07f0>"
      ]
     },
     "execution_count": 14,
     "metadata": {},
     "output_type": "execute_result"
    },
    {
     "data": {
      "image/png": "[encoded data removed]",
      "text/plain": [
       "<matplotlib.figure.Figure at 0x9d389e8>"
      ]
     },
     "metadata": {},
     "output_type": "display_data"
    }
   ],
   "source": [
    "fig = plt.figure(figsize=(10,5))\n",
    "ax1 = fig.add_subplot(111)\n",
    "\n",
    "for firm in firms['run_0']:\n",
    "    ax1.plot(range(len(firm)), firm.apply(int))\n",
    "\n",
    "ax1.set_xlabel('(Simulation time)', fontsize='14')\n",
    "ax1.set_ylabel('Profit', fontsize='18')\n",
    "\n",
    "plt.legend(loc='best', fontsize='14')"
   ]
  },
  {
   "cell_type": "markdown",
   "metadata": {},
   "source": [
    "### 1.3 Traders"
   ]
  },
  {
   "cell_type": "markdown",
   "metadata": {},
   "source": [
    "In this section, we examine the state variables of traders. These are: \n",
    "* Money\n",
    "* Portfolio of stocks: *The type and amount of that stock agent holds*\n",
    "* Bid-ask spread (**fixed**): *the percentage difference between the amount at which an agent is willing to buy and sell a stock.*\n",
    "* Memory size (**fixed**): *the amount of periods an agent remembers stock prices*"
   ]
  },
  {
   "cell_type": "code",
   "execution_count": 15,
   "metadata": {
    "collapsed": true
   },
   "outputs": [],
   "source": [
    "traderVariables = []\n",
    "for seed in range(NRUNS):\n",
    "    traderVariables.append(pd.read_sql_query(\n",
    "    \"\"\"\n",
    "    SELECT Statevariables{0}.seed ,Statevariables{0}.period, Variabletypes{0}.variable_type, Objects{0}.object_name, Objects{0}.object_type, Statevariables{0}.value \n",
    "    FROM Statevariables{0} JOIN Variabletypes{0} JOIN Objects{0} \n",
    "    ON Statevariables{0}.variable_id = Variabletypes{0}.id and Statevariables{0}.owner_id = Objects{0}.id \n",
    "    WHERE Objects{0}.object_type = 'trader'\n",
    "    \"\"\".format(seed), conn))"
   ]
  },
  {
   "cell_type": "code",
   "execution_count": 16,
   "metadata": {
    "collapsed": true
   },
   "outputs": [],
   "source": [
    "traderVariables = pd.concat(traderVariables)"
   ]
  },
  {
   "cell_type": "code",
   "execution_count": 17,
   "metadata": {
    "collapsed": false
   },
   "outputs": [
    {
     "data": {
      "text/html": [
       "<div>\n",
       "<table border=\"1\" class=\"dataframe\">\n",
       "  <thead>\n",
       "    <tr style=\"text-align: right;\">\n",
       "      <th></th>\n",
       "      <th>seed</th>\n",
       "      <th>period</th>\n",
       "      <th>variable_type</th>\n",
       "      <th>object_name</th>\n",
       "      <th>object_type</th>\n",
       "      <th>value</th>\n",
       "    </tr>\n",
       "  </thead>\n",
       "  <tbody>\n",
       "    <tr>\n",
       "      <th>0</th>\n",
       "      <td>0</td>\n",
       "      <td>0</td>\n",
       "      <td>name</td>\n",
       "      <td>trader_7</td>\n",
       "      <td>trader</td>\n",
       "      <td>7</td>\n",
       "    </tr>\n",
       "    <tr>\n",
       "      <th>1</th>\n",
       "      <td>0</td>\n",
       "      <td>0</td>\n",
       "      <td>memory_size</td>\n",
       "      <td>trader_7</td>\n",
       "      <td>trader</td>\n",
       "      <td>3</td>\n",
       "    </tr>\n",
       "    <tr>\n",
       "      <th>2</th>\n",
       "      <td>0</td>\n",
       "      <td>0</td>\n",
       "      <td>ma_short</td>\n",
       "      <td>trader_7</td>\n",
       "      <td>trader</td>\n",
       "      <td>3</td>\n",
       "    </tr>\n",
       "    <tr>\n",
       "      <th>3</th>\n",
       "      <td>0</td>\n",
       "      <td>0</td>\n",
       "      <td>function</td>\n",
       "      <td>trader_7</td>\n",
       "      <td>trader</td>\n",
       "      <td>&lt;function extrapolate_average_profit at 0x0000...</td>\n",
       "    </tr>\n",
       "    <tr>\n",
       "      <th>4</th>\n",
       "      <td>0</td>\n",
       "      <td>0</td>\n",
       "      <td>ma_long</td>\n",
       "      <td>trader_7</td>\n",
       "      <td>trader</td>\n",
       "      <td>6</td>\n",
       "    </tr>\n",
       "  </tbody>\n",
       "</table>\n",
       "</div>"
      ],
      "text/plain": [
       "   seed  period variable_type object_name object_type  \\\n",
       "0     0       0          name    trader_7      trader   \n",
       "1     0       0   memory_size    trader_7      trader   \n",
       "2     0       0      ma_short    trader_7      trader   \n",
       "3     0       0      function    trader_7      trader   \n",
       "4     0       0       ma_long    trader_7      trader   \n",
       "\n",
       "                                               value  \n",
       "0                                                  7  \n",
       "1                                                  3  \n",
       "2                                                  3  \n",
       "3  <function extrapolate_average_profit at 0x0000...  \n",
       "4                                                  6  "
      ]
     },
     "execution_count": 17,
     "metadata": {},
     "output_type": "execute_result"
    }
   ],
   "source": [
    "traderVariables.head()"
   ]
  },
  {
   "cell_type": "code",
   "execution_count": 18,
   "metadata": {
    "collapsed": true
   },
   "outputs": [],
   "source": [
    "t_time = list(set(traderVariables['period'].apply(int)))"
   ]
  },
  {
   "cell_type": "markdown",
   "metadata": {},
   "source": [
    "#### 1.3.1 Money:\n",
    "Over time some traders trade more than other and thus their **money** either increases or decreases. All traders start out with money between 200 and 250 and over time this branches out to a distribution between 0 and 280. "
   ]
  },
  {
   "cell_type": "code",
   "execution_count": 19,
   "metadata": {
    "collapsed": false
   },
   "outputs": [
    {
     "data": {
      "text/plain": [
       "<matplotlib.text.Text at 0xb82d710>"
      ]
     },
     "execution_count": 19,
     "metadata": {},
     "output_type": "execute_result"
    },
    {
     "data": {
      "image/png": "[encoded data removed]",
      "text/plain": [
       "<matplotlib.figure.Figure at 0x8d0db00>"
      ]
     },
     "metadata": {},
     "output_type": "display_data"
    }
   ],
   "source": [
    "fig = plt.figure(figsize=(10,5))\n",
    "ax1 = fig.add_subplot(111)\n",
    "\n",
    "for trader in traderVariables['object_name'].unique():\n",
    "    ax1.plot(t_time, \n",
    "            traderVariables.query('variable_type == \"money\" and object_name == \"{}\" and seed == 0.0'.format(trader))['value'].apply(float),\n",
    "            label=trader)\n",
    "\n",
    "ax1.set_xlabel('(Simulation time)', fontsize='14')\n",
    "ax1.set_ylabel('Money', fontsize='18')\n",
    "\n",
    "#plt.legend(loc=2, fontsize='14')"
   ]
  },
  {
   "cell_type": "markdown",
   "metadata": {},
   "source": [
    "#### 1.3.2 Stock portfolio:\n",
    "Likewise the distribution of stocks changes as traders trade with each other. "
   ]
  },
  {
   "cell_type": "code",
   "execution_count": 20,
   "metadata": {
    "collapsed": false
   },
   "outputs": [],
   "source": [
    "def transformStringToDict(stringDict):\n",
    "    \"\"\"This function inserts double quotation marks into the current dictionary string\"\"\"\n",
    "    original = stringDict\n",
    "    indis = [m.start() for m in re.finditer('stock_', original)]\n",
    "    s = original\n",
    "    counter = 0\n",
    "    for ix in indis:\n",
    "        ix = ix + counter\n",
    "        s = s[:ix] + '\"' + s[ix:]\n",
    "        counter += 1\n",
    "    dubbelPunten = [m.start() for m in re.finditer(':', original)]\n",
    "    counter2 = 0\n",
    "    for ix2 in dubbelPunten:\n",
    "        ix2 = ix2 + counter2\n",
    "        s = s[:(ix2+1)] + '\"' + s[(ix2+1):]\n",
    "        counter2 += 2\n",
    "    d = json.loads(s)\n",
    "    return d"
   ]
  },
  {
   "cell_type": "code",
   "execution_count": 21,
   "metadata": {
    "collapsed": false
   },
   "outputs": [
    {
     "name": "stderr",
     "output_type": "stream",
     "text": [
      "C:\\Users\\p267237\\AppData\\Local\\Continuum\\Anaconda3\\lib\\site-packages\\ipykernel\\__main__.py:2: SettingWithCopyWarning: \n",
      "A value is trying to be set on a copy of a slice from a DataFrame.\n",
      "Try using .loc[row_indexer,col_indexer] = value instead\n",
      "\n",
      "See the caveats in the documentation: http://pandas.pydata.org/pandas-docs/stable/indexing.html#indexing-view-versus-copy\n",
      "  from ipykernel import kernelapp as app\n"
     ]
    }
   ],
   "source": [
    "traderPortfolios = traderVariables.query('variable_type == \"stocks\"')\n",
    "traderPortfolios['value'] = traderPortfolios['value'].apply(transformStringToDict)"
   ]
  },
  {
   "cell_type": "markdown",
   "metadata": {},
   "source": [
    "From the value column we create seperate columns for each stock in the trader portfolio."
   ]
  },
  {
   "cell_type": "code",
   "execution_count": 22,
   "metadata": {
    "collapsed": false
   },
   "outputs": [
    {
     "name": "stderr",
     "output_type": "stream",
     "text": [
      "C:\\Users\\p267237\\AppData\\Local\\Continuum\\Anaconda3\\lib\\site-packages\\ipykernel\\__main__.py:6: SettingWithCopyWarning: \n",
      "A value is trying to be set on a copy of a slice from a DataFrame.\n",
      "Try using .loc[row_indexer,col_indexer] = value instead\n",
      "\n",
      "See the caveats in the documentation: http://pandas.pydata.org/pandas-docs/stable/indexing.html#indexing-view-versus-copy\n"
     ]
    }
   ],
   "source": [
    "stocks = {}\n",
    "for stock in stockVariables['object_name'].unique():\n",
    "    stocks[stock] = []\n",
    "    for i in range(len(traderPortfolios)):\n",
    "        stocks[stock].append(traderPortfolios['value'].iloc[i][stock])\n",
    "    traderPortfolios[stock] = stocks[stock]\n",
    "#traderPortfolios.head()"
   ]
  },
  {
   "cell_type": "code",
   "execution_count": 23,
   "metadata": {
    "collapsed": false
   },
   "outputs": [
    {
     "data": {
      "text/html": [
       "<div>\n",
       "<table border=\"1\" class=\"dataframe\">\n",
       "  <thead>\n",
       "    <tr style=\"text-align: right;\">\n",
       "      <th></th>\n",
       "      <th>seed</th>\n",
       "      <th>period</th>\n",
       "      <th>variable_type</th>\n",
       "      <th>object_name</th>\n",
       "      <th>object_type</th>\n",
       "      <th>value</th>\n",
       "      <th>stock_0</th>\n",
       "    </tr>\n",
       "  </thead>\n",
       "  <tbody>\n",
       "    <tr>\n",
       "      <th>7</th>\n",
       "      <td>0</td>\n",
       "      <td>0</td>\n",
       "      <td>stocks</td>\n",
       "      <td>trader_7</td>\n",
       "      <td>trader</td>\n",
       "      <td>{'stock_0': 10}</td>\n",
       "      <td>10</td>\n",
       "    </tr>\n",
       "    <tr>\n",
       "      <th>15</th>\n",
       "      <td>0</td>\n",
       "      <td>1</td>\n",
       "      <td>stocks</td>\n",
       "      <td>trader_7</td>\n",
       "      <td>trader</td>\n",
       "      <td>{'stock_0': 10}</td>\n",
       "      <td>10</td>\n",
       "    </tr>\n",
       "    <tr>\n",
       "      <th>23</th>\n",
       "      <td>0</td>\n",
       "      <td>2</td>\n",
       "      <td>stocks</td>\n",
       "      <td>trader_7</td>\n",
       "      <td>trader</td>\n",
       "      <td>{'stock_0': 10}</td>\n",
       "      <td>10</td>\n",
       "    </tr>\n",
       "    <tr>\n",
       "      <th>31</th>\n",
       "      <td>0</td>\n",
       "      <td>3</td>\n",
       "      <td>stocks</td>\n",
       "      <td>trader_7</td>\n",
       "      <td>trader</td>\n",
       "      <td>{'stock_0': 10}</td>\n",
       "      <td>10</td>\n",
       "    </tr>\n",
       "    <tr>\n",
       "      <th>39</th>\n",
       "      <td>0</td>\n",
       "      <td>4</td>\n",
       "      <td>stocks</td>\n",
       "      <td>trader_7</td>\n",
       "      <td>trader</td>\n",
       "      <td>{'stock_0': 10}</td>\n",
       "      <td>10</td>\n",
       "    </tr>\n",
       "  </tbody>\n",
       "</table>\n",
       "</div>"
      ],
      "text/plain": [
       "    seed  period variable_type object_name object_type            value  \\\n",
       "7      0       0        stocks    trader_7      trader  {'stock_0': 10}   \n",
       "15     0       1        stocks    trader_7      trader  {'stock_0': 10}   \n",
       "23     0       2        stocks    trader_7      trader  {'stock_0': 10}   \n",
       "31     0       3        stocks    trader_7      trader  {'stock_0': 10}   \n",
       "39     0       4        stocks    trader_7      trader  {'stock_0': 10}   \n",
       "\n",
       "    stock_0  \n",
       "7        10  \n",
       "15       10  \n",
       "23       10  \n",
       "31       10  \n",
       "39       10  "
      ]
     },
     "execution_count": 23,
     "metadata": {},
     "output_type": "execute_result"
    }
   ],
   "source": [
    "traderPortfolios.head()"
   ]
  },
  {
   "cell_type": "code",
   "execution_count": 24,
   "metadata": {
    "collapsed": false
   },
   "outputs": [
    {
     "ename": "KeyError",
     "evalue": "'stock_1'",
     "output_type": "error",
     "traceback": [
      "\u001b[1;31m---------------------------------------------------------------------------\u001b[0m",
      "\u001b[1;31mKeyError\u001b[0m                                  Traceback (most recent call last)",
      "\u001b[1;32m<ipython-input-24-3dc9bdfa622e>\u001b[0m in \u001b[0;36m<module>\u001b[1;34m()\u001b[0m\n\u001b[0;32m     14\u001b[0m \u001b[1;32mfor\u001b[0m \u001b[0mtrader\u001b[0m \u001b[1;32min\u001b[0m \u001b[0mtraderPortfolios\u001b[0m\u001b[1;33m[\u001b[0m\u001b[1;34m'object_name'\u001b[0m\u001b[1;33m]\u001b[0m\u001b[1;33m.\u001b[0m\u001b[0munique\u001b[0m\u001b[1;33m(\u001b[0m\u001b[1;33m)\u001b[0m\u001b[1;33m:\u001b[0m\u001b[1;33m\u001b[0m\u001b[0m\n\u001b[0;32m     15\u001b[0m     ax2.plot(t_time, \n\u001b[1;32m---> 16\u001b[1;33m             \u001b[0mtraderPortfolios\u001b[0m\u001b[1;33m.\u001b[0m\u001b[0mquery\u001b[0m\u001b[1;33m(\u001b[0m\u001b[1;34m'object_name == \"{}\" and seed == {}'\u001b[0m\u001b[1;33m.\u001b[0m\u001b[0mformat\u001b[0m\u001b[1;33m(\u001b[0m\u001b[0mtrader\u001b[0m\u001b[1;33m,\u001b[0m \u001b[0mseed\u001b[0m\u001b[1;33m)\u001b[0m\u001b[1;33m)\u001b[0m\u001b[1;33m[\u001b[0m\u001b[1;34m'stock_1'\u001b[0m\u001b[1;33m]\u001b[0m\u001b[1;33m,\u001b[0m\u001b[1;33m\u001b[0m\u001b[0m\n\u001b[0m\u001b[0;32m     17\u001b[0m             label=trader)\n\u001b[0;32m     18\u001b[0m \u001b[1;33m\u001b[0m\u001b[0m\n",
      "\u001b[1;32mC:\\Users\\p267237\\AppData\\Local\\Continuum\\Anaconda3\\lib\\site-packages\\pandas\\core\\frame.py\u001b[0m in \u001b[0;36m__getitem__\u001b[1;34m(self, key)\u001b[0m\n\u001b[0;32m   1967\u001b[0m             \u001b[1;32mreturn\u001b[0m \u001b[0mself\u001b[0m\u001b[1;33m.\u001b[0m\u001b[0m_getitem_multilevel\u001b[0m\u001b[1;33m(\u001b[0m\u001b[0mkey\u001b[0m\u001b[1;33m)\u001b[0m\u001b[1;33m\u001b[0m\u001b[0m\n\u001b[0;32m   1968\u001b[0m         \u001b[1;32melse\u001b[0m\u001b[1;33m:\u001b[0m\u001b[1;33m\u001b[0m\u001b[0m\n\u001b[1;32m-> 1969\u001b[1;33m             \u001b[1;32mreturn\u001b[0m \u001b[0mself\u001b[0m\u001b[1;33m.\u001b[0m\u001b[0m_getitem_column\u001b[0m\u001b[1;33m(\u001b[0m\u001b[0mkey\u001b[0m\u001b[1;33m)\u001b[0m\u001b[1;33m\u001b[0m\u001b[0m\n\u001b[0m\u001b[0;32m   1970\u001b[0m \u001b[1;33m\u001b[0m\u001b[0m\n\u001b[0;32m   1971\u001b[0m     \u001b[1;32mdef\u001b[0m \u001b[0m_getitem_column\u001b[0m\u001b[1;33m(\u001b[0m\u001b[0mself\u001b[0m\u001b[1;33m,\u001b[0m \u001b[0mkey\u001b[0m\u001b[1;33m)\u001b[0m\u001b[1;33m:\u001b[0m\u001b[1;33m\u001b[0m\u001b[0m\n",
      "\u001b[1;32mC:\\Users\\p267237\\AppData\\Local\\Continuum\\Anaconda3\\lib\\site-packages\\pandas\\core\\frame.py\u001b[0m in \u001b[0;36m_getitem_column\u001b[1;34m(self, key)\u001b[0m\n\u001b[0;32m   1974\u001b[0m         \u001b[1;31m# get column\u001b[0m\u001b[1;33m\u001b[0m\u001b[1;33m\u001b[0m\u001b[0m\n\u001b[0;32m   1975\u001b[0m         \u001b[1;32mif\u001b[0m \u001b[0mself\u001b[0m\u001b[1;33m.\u001b[0m\u001b[0mcolumns\u001b[0m\u001b[1;33m.\u001b[0m\u001b[0mis_unique\u001b[0m\u001b[1;33m:\u001b[0m\u001b[1;33m\u001b[0m\u001b[0m\n\u001b[1;32m-> 1976\u001b[1;33m             \u001b[1;32mreturn\u001b[0m \u001b[0mself\u001b[0m\u001b[1;33m.\u001b[0m\u001b[0m_get_item_cache\u001b[0m\u001b[1;33m(\u001b[0m\u001b[0mkey\u001b[0m\u001b[1;33m)\u001b[0m\u001b[1;33m\u001b[0m\u001b[0m\n\u001b[0m\u001b[0;32m   1977\u001b[0m \u001b[1;33m\u001b[0m\u001b[0m\n\u001b[0;32m   1978\u001b[0m         \u001b[1;31m# duplicate columns & possible reduce dimensionality\u001b[0m\u001b[1;33m\u001b[0m\u001b[1;33m\u001b[0m\u001b[0m\n",
      "\u001b[1;32mC:\\Users\\p267237\\AppData\\Local\\Continuum\\Anaconda3\\lib\\site-packages\\pandas\\core\\generic.py\u001b[0m in \u001b[0;36m_get_item_cache\u001b[1;34m(self, item)\u001b[0m\n\u001b[0;32m   1089\u001b[0m         \u001b[0mres\u001b[0m \u001b[1;33m=\u001b[0m \u001b[0mcache\u001b[0m\u001b[1;33m.\u001b[0m\u001b[0mget\u001b[0m\u001b[1;33m(\u001b[0m\u001b[0mitem\u001b[0m\u001b[1;33m)\u001b[0m\u001b[1;33m\u001b[0m\u001b[0m\n\u001b[0;32m   1090\u001b[0m         \u001b[1;32mif\u001b[0m \u001b[0mres\u001b[0m \u001b[1;32mis\u001b[0m \u001b[1;32mNone\u001b[0m\u001b[1;33m:\u001b[0m\u001b[1;33m\u001b[0m\u001b[0m\n\u001b[1;32m-> 1091\u001b[1;33m             \u001b[0mvalues\u001b[0m \u001b[1;33m=\u001b[0m \u001b[0mself\u001b[0m\u001b[1;33m.\u001b[0m\u001b[0m_data\u001b[0m\u001b[1;33m.\u001b[0m\u001b[0mget\u001b[0m\u001b[1;33m(\u001b[0m\u001b[0mitem\u001b[0m\u001b[1;33m)\u001b[0m\u001b[1;33m\u001b[0m\u001b[0m\n\u001b[0m\u001b[0;32m   1092\u001b[0m             \u001b[0mres\u001b[0m \u001b[1;33m=\u001b[0m \u001b[0mself\u001b[0m\u001b[1;33m.\u001b[0m\u001b[0m_box_item_values\u001b[0m\u001b[1;33m(\u001b[0m\u001b[0mitem\u001b[0m\u001b[1;33m,\u001b[0m \u001b[0mvalues\u001b[0m\u001b[1;33m)\u001b[0m\u001b[1;33m\u001b[0m\u001b[0m\n\u001b[0;32m   1093\u001b[0m             \u001b[0mcache\u001b[0m\u001b[1;33m[\u001b[0m\u001b[0mitem\u001b[0m\u001b[1;33m]\u001b[0m \u001b[1;33m=\u001b[0m \u001b[0mres\u001b[0m\u001b[1;33m\u001b[0m\u001b[0m\n",
      "\u001b[1;32mC:\\Users\\p267237\\AppData\\Local\\Continuum\\Anaconda3\\lib\\site-packages\\pandas\\core\\internals.py\u001b[0m in \u001b[0;36mget\u001b[1;34m(self, item, fastpath)\u001b[0m\n\u001b[0;32m   3209\u001b[0m \u001b[1;33m\u001b[0m\u001b[0m\n\u001b[0;32m   3210\u001b[0m             \u001b[1;32mif\u001b[0m \u001b[1;32mnot\u001b[0m \u001b[0misnull\u001b[0m\u001b[1;33m(\u001b[0m\u001b[0mitem\u001b[0m\u001b[1;33m)\u001b[0m\u001b[1;33m:\u001b[0m\u001b[1;33m\u001b[0m\u001b[0m\n\u001b[1;32m-> 3211\u001b[1;33m                 \u001b[0mloc\u001b[0m \u001b[1;33m=\u001b[0m \u001b[0mself\u001b[0m\u001b[1;33m.\u001b[0m\u001b[0mitems\u001b[0m\u001b[1;33m.\u001b[0m\u001b[0mget_loc\u001b[0m\u001b[1;33m(\u001b[0m\u001b[0mitem\u001b[0m\u001b[1;33m)\u001b[0m\u001b[1;33m\u001b[0m\u001b[0m\n\u001b[0m\u001b[0;32m   3212\u001b[0m             \u001b[1;32melse\u001b[0m\u001b[1;33m:\u001b[0m\u001b[1;33m\u001b[0m\u001b[0m\n\u001b[0;32m   3213\u001b[0m                 \u001b[0mindexer\u001b[0m \u001b[1;33m=\u001b[0m \u001b[0mnp\u001b[0m\u001b[1;33m.\u001b[0m\u001b[0marange\u001b[0m\u001b[1;33m(\u001b[0m\u001b[0mlen\u001b[0m\u001b[1;33m(\u001b[0m\u001b[0mself\u001b[0m\u001b[1;33m.\u001b[0m\u001b[0mitems\u001b[0m\u001b[1;33m)\u001b[0m\u001b[1;33m)\u001b[0m\u001b[1;33m[\u001b[0m\u001b[0misnull\u001b[0m\u001b[1;33m(\u001b[0m\u001b[0mself\u001b[0m\u001b[1;33m.\u001b[0m\u001b[0mitems\u001b[0m\u001b[1;33m)\u001b[0m\u001b[1;33m]\u001b[0m\u001b[1;33m\u001b[0m\u001b[0m\n",
      "\u001b[1;32mC:\\Users\\p267237\\AppData\\Local\\Continuum\\Anaconda3\\lib\\site-packages\\pandas\\core\\index.py\u001b[0m in \u001b[0;36mget_loc\u001b[1;34m(self, key, method, tolerance)\u001b[0m\n\u001b[0;32m   1757\u001b[0m                                  'backfill or nearest lookups')\n\u001b[0;32m   1758\u001b[0m             \u001b[0mkey\u001b[0m \u001b[1;33m=\u001b[0m \u001b[0m_values_from_object\u001b[0m\u001b[1;33m(\u001b[0m\u001b[0mkey\u001b[0m\u001b[1;33m)\u001b[0m\u001b[1;33m\u001b[0m\u001b[0m\n\u001b[1;32m-> 1759\u001b[1;33m             \u001b[1;32mreturn\u001b[0m \u001b[0mself\u001b[0m\u001b[1;33m.\u001b[0m\u001b[0m_engine\u001b[0m\u001b[1;33m.\u001b[0m\u001b[0mget_loc\u001b[0m\u001b[1;33m(\u001b[0m\u001b[0mkey\u001b[0m\u001b[1;33m)\u001b[0m\u001b[1;33m\u001b[0m\u001b[0m\n\u001b[0m\u001b[0;32m   1760\u001b[0m \u001b[1;33m\u001b[0m\u001b[0m\n\u001b[0;32m   1761\u001b[0m         indexer = self.get_indexer([key], method=method,\n",
      "\u001b[1;32mpandas\\index.pyx\u001b[0m in \u001b[0;36mpandas.index.IndexEngine.get_loc (pandas\\index.c:3979)\u001b[1;34m()\u001b[0m\n",
      "\u001b[1;32mpandas\\index.pyx\u001b[0m in \u001b[0;36mpandas.index.IndexEngine.get_loc (pandas\\index.c:3843)\u001b[1;34m()\u001b[0m\n",
      "\u001b[1;32mpandas\\hashtable.pyx\u001b[0m in \u001b[0;36mpandas.hashtable.PyObjectHashTable.get_item (pandas\\hashtable.c:12265)\u001b[1;34m()\u001b[0m\n",
      "\u001b[1;32mpandas\\hashtable.pyx\u001b[0m in \u001b[0;36mpandas.hashtable.PyObjectHashTable.get_item (pandas\\hashtable.c:12216)\u001b[1;34m()\u001b[0m\n",
      "\u001b[1;31mKeyError\u001b[0m: 'stock_1'"
     ]
    },
    {
     "data": {
      "image/png": "[encoded data removed]",
      "text/plain": [
       "<matplotlib.figure.Figure at 0xb14fd68>"
      ]
     },
     "metadata": {},
     "output_type": "display_data"
    }
   ],
   "source": [
    "fig = plt.figure(figsize=(10,5))\n",
    "ax1 = fig.add_subplot(221)\n",
    "ax2 = fig.add_subplot(222)\n",
    "ax3 = fig.add_subplot(223)\n",
    "ax4 = fig.add_subplot(224)\n",
    "\n",
    "seed = 0\n",
    "\n",
    "for trader in traderPortfolios['object_name'].unique():\n",
    "    ax1.plot(t_time, \n",
    "            traderPortfolios.query('object_name == \"{}\" and seed == {}'.format(trader, seed))['stock_0'],\n",
    "            label=trader)\n",
    "    \n",
    "for trader in traderPortfolios['object_name'].unique():\n",
    "    ax2.plot(t_time, \n",
    "            traderPortfolios.query('object_name == \"{}\" and seed == {}'.format(trader, seed))['stock_1'],\n",
    "            label=trader)\n",
    "    \n",
    "for trader in traderPortfolios['object_name'].unique():\n",
    "    ax3.plot(t_time, \n",
    "            traderPortfolios.query('object_name == \"{}\" and seed == {}'.format(trader, seed))['stock_2'],\n",
    "            label=trader)\n",
    "    \n",
    "for trader in traderPortfolios['object_name'].unique():\n",
    "    ax4.plot(t_time, \n",
    "            traderPortfolios.query('object_name == \"{}\" and seed == {}'.format(trader, seed))['stock_3'],\n",
    "            label=trader)\n",
    "\n",
    "ax1.set_ylabel('Stock_0', fontsize='18')\n",
    "ax2.set_ylabel('Stock_1', fontsize='18')\n",
    "ax3.set_xlabel('(Simulation time)', fontsize='14')\n",
    "ax3.set_ylabel('Stock_2', fontsize='18')\n",
    "\n",
    "ax3.set_xlabel('(Simulation time)', fontsize='14')\n",
    "ax4.set_ylabel('Stock_3', fontsize='18')\n",
    "\n",
    "#plt.legend(loc=2, fontsize='14')"
   ]
  },
  {
   "cell_type": "markdown",
   "metadata": {},
   "source": [
    "## 2 Transactions\n",
    "Using the Transactions and Objects tables, I then analyse the transactions made by traders. "
   ]
  },
  {
   "cell_type": "code",
   "execution_count": 25,
   "metadata": {
    "collapsed": false
   },
   "outputs": [],
   "source": [
    "transactions = []\n",
    "for seed in range(NRUNS):\n",
    "    transactions.append(pd.read_sql_query(\n",
    "    \"\"\"\n",
    "    SELECT Transactions{0}.id, Transactions{0}.seed, Transactions{0}.period, Transactors{0}.role, Objects{0}.object_name, Objects{0}.object_type, Transactions{0}.amount_of_product, Transactions{0}.amount_of_money \n",
    "    FROM Transactors{0} JOIN Transactions{0} JOIN Objects{0} \n",
    "    ON Transactors{0}.transaction_id = Transactions{0}.id and Transactors{0}.transactor_id = Objects{0}.id\n",
    "    \"\"\".format(seed), conn))"
   ]
  },
  {
   "cell_type": "code",
   "execution_count": 26,
   "metadata": {
    "collapsed": true
   },
   "outputs": [],
   "source": [
    "transactions = pd.concat(transactions)"
   ]
  },
  {
   "cell_type": "markdown",
   "metadata": {},
   "source": [
    "The price of transactions is not recorded in the simulation. Therefore, I derive it by dividing the amount of money payed for a single transactions by the amount of stocks traded. "
   ]
  },
  {
   "cell_type": "code",
   "execution_count": 27,
   "metadata": {
    "collapsed": true
   },
   "outputs": [],
   "source": [
    "transactions['price'] = transactions['amount_of_money'] / transactions['amount_of_product']"
   ]
  },
  {
   "cell_type": "code",
   "execution_count": 28,
   "metadata": {
    "collapsed": false
   },
   "outputs": [
    {
     "data": {
      "text/html": [
       "<div>\n",
       "<table border=\"1\" class=\"dataframe\">\n",
       "  <thead>\n",
       "    <tr style=\"text-align: right;\">\n",
       "      <th></th>\n",
       "      <th>id</th>\n",
       "      <th>seed</th>\n",
       "      <th>period</th>\n",
       "      <th>role</th>\n",
       "      <th>object_name</th>\n",
       "      <th>object_type</th>\n",
       "      <th>amount_of_product</th>\n",
       "      <th>amount_of_money</th>\n",
       "      <th>price</th>\n",
       "    </tr>\n",
       "  </thead>\n",
       "  <tbody>\n",
       "    <tr>\n",
       "      <th>4</th>\n",
       "      <td>1</td>\n",
       "      <td>0</td>\n",
       "      <td>0</td>\n",
       "      <td>seller</td>\n",
       "      <td>trader_70</td>\n",
       "      <td>trader</td>\n",
       "      <td>5</td>\n",
       "      <td>48.912428</td>\n",
       "      <td>9.782486</td>\n",
       "    </tr>\n",
       "    <tr>\n",
       "      <th>5</th>\n",
       "      <td>1</td>\n",
       "      <td>0</td>\n",
       "      <td>0</td>\n",
       "      <td>stock</td>\n",
       "      <td>stock_0</td>\n",
       "      <td>stock</td>\n",
       "      <td>5</td>\n",
       "      <td>48.912428</td>\n",
       "      <td>9.782486</td>\n",
       "    </tr>\n",
       "    <tr>\n",
       "      <th>6</th>\n",
       "      <td>2</td>\n",
       "      <td>0</td>\n",
       "      <td>0</td>\n",
       "      <td>buyer</td>\n",
       "      <td>trader_6</td>\n",
       "      <td>trader</td>\n",
       "      <td>5</td>\n",
       "      <td>48.590817</td>\n",
       "      <td>9.718163</td>\n",
       "    </tr>\n",
       "    <tr>\n",
       "      <th>7</th>\n",
       "      <td>2</td>\n",
       "      <td>0</td>\n",
       "      <td>0</td>\n",
       "      <td>seller</td>\n",
       "      <td>trader_76</td>\n",
       "      <td>trader</td>\n",
       "      <td>5</td>\n",
       "      <td>48.590817</td>\n",
       "      <td>9.718163</td>\n",
       "    </tr>\n",
       "    <tr>\n",
       "      <th>8</th>\n",
       "      <td>2</td>\n",
       "      <td>0</td>\n",
       "      <td>0</td>\n",
       "      <td>stock</td>\n",
       "      <td>stock_0</td>\n",
       "      <td>stock</td>\n",
       "      <td>5</td>\n",
       "      <td>48.590817</td>\n",
       "      <td>9.718163</td>\n",
       "    </tr>\n",
       "  </tbody>\n",
       "</table>\n",
       "</div>"
      ],
      "text/plain": [
       "   id  seed  period    role object_name object_type  amount_of_product  \\\n",
       "4   1     0       0  seller   trader_70      trader                  5   \n",
       "5   1     0       0   stock     stock_0       stock                  5   \n",
       "6   2     0       0   buyer    trader_6      trader                  5   \n",
       "7   2     0       0  seller   trader_76      trader                  5   \n",
       "8   2     0       0   stock     stock_0       stock                  5   \n",
       "\n",
       "   amount_of_money     price  \n",
       "4        48.912428  9.782486  \n",
       "5        48.912428  9.782486  \n",
       "6        48.590817  9.718163  \n",
       "7        48.590817  9.718163  \n",
       "8        48.590817  9.718163  "
      ]
     },
     "execution_count": 28,
     "metadata": {},
     "output_type": "execute_result"
    }
   ],
   "source": [
    "transactions.tail()"
   ]
  },
  {
   "cell_type": "markdown",
   "metadata": {},
   "source": [
    "### 2.1 Prices \n",
    "A stock can be traded at different prices at the same time by different traders. I therefore construct a seperate table which summarizes stocks prices over time. "
   ]
  },
  {
   "cell_type": "code",
   "execution_count": 29,
   "metadata": {
    "collapsed": true
   },
   "outputs": [],
   "source": [
    "transactionTime = [n for n in range(len(t_time))]"
   ]
  },
  {
   "cell_type": "code",
   "execution_count": 30,
   "metadata": {
    "collapsed": true
   },
   "outputs": [],
   "source": [
    "seed = 0\n",
    "\n",
    "stockPrices = {'period': transactionTime}\n",
    "for stock in transactions.query('object_type == \"stock\"')['object_name'].unique():\n",
    "    allPrices = []\n",
    "    for period in transactionTime:\n",
    "        pricesAtPeriod = []\n",
    "        for price in transactions.query('object_name == \"{}\" and period == {} and seed == {}'.format(stock,period, seed))['price']:\n",
    "            pricesAtPeriod.append(price)\n",
    "        if (not not pricesAtPeriod):\n",
    "            allPrices.append(pricesAtPeriod)\n",
    "        else:\n",
    "            allPrices.append(np.nan)\n",
    "    stockPrices[stock] = allPrices"
   ]
  },
  {
   "cell_type": "code",
   "execution_count": 31,
   "metadata": {
    "collapsed": false
   },
   "outputs": [
    {
     "data": {
      "text/html": [
       "<div>\n",
       "<table border=\"1\" class=\"dataframe\">\n",
       "  <thead>\n",
       "    <tr style=\"text-align: right;\">\n",
       "      <th></th>\n",
       "      <th>period</th>\n",
       "      <th>stock_0</th>\n",
       "    </tr>\n",
       "  </thead>\n",
       "  <tbody>\n",
       "    <tr>\n",
       "      <th>0</th>\n",
       "      <td>0</td>\n",
       "      <td>[9.78837403413, 9.78248559893, 9.71816346516]</td>\n",
       "    </tr>\n",
       "    <tr>\n",
       "      <th>1</th>\n",
       "      <td>1</td>\n",
       "      <td>NaN</td>\n",
       "    </tr>\n",
       "    <tr>\n",
       "      <th>2</th>\n",
       "      <td>2</td>\n",
       "      <td>NaN</td>\n",
       "    </tr>\n",
       "    <tr>\n",
       "      <th>3</th>\n",
       "      <td>3</td>\n",
       "      <td>NaN</td>\n",
       "    </tr>\n",
       "    <tr>\n",
       "      <th>4</th>\n",
       "      <td>4</td>\n",
       "      <td>NaN</td>\n",
       "    </tr>\n",
       "  </tbody>\n",
       "</table>\n",
       "</div>"
      ],
      "text/plain": [
       "   period                                        stock_0\n",
       "0       0  [9.78837403413, 9.78248559893, 9.71816346516]\n",
       "1       1                                            NaN\n",
       "2       2                                            NaN\n",
       "3       3                                            NaN\n",
       "4       4                                            NaN"
      ]
     },
     "execution_count": 31,
     "metadata": {},
     "output_type": "execute_result"
    }
   ],
   "source": [
    "pricesOvertime = pd.DataFrame(stockPrices)\n",
    "pricesOvertime.head()"
   ]
  },
  {
   "cell_type": "markdown",
   "metadata": {
    "collapsed": true
   },
   "source": [
    "### 2.1.1 Average prices"
   ]
  },
  {
   "cell_type": "code",
   "execution_count": 32,
   "metadata": {
    "collapsed": false
   },
   "outputs": [
    {
     "data": {
      "image/png": "[encoded data removed]",
      "text/plain": [
       "<matplotlib.figure.Figure at 0xaedff28>"
      ]
     },
     "metadata": {},
     "output_type": "display_data"
    }
   ],
   "source": [
    "fig = plt.figure(figsize=(10,5))\n",
    "ax1 = fig.add_subplot(211)\n",
    "ax2 = fig.add_subplot(212)\n",
    "\n",
    "ax1.scatter(pricesOvertime.index, pricesOvertime['stock_0'].apply(np.mean), c='b')\n",
    "# ax1.scatter(pricesOvertime.index, pricesOvertime['stock_1'].apply(np.mean), c='g')\n",
    "# ax1.scatter(pricesOvertime.index, pricesOvertime['stock_2'].apply(np.mean), c='r')\n",
    "# ax1.scatter(pricesOvertime.index, pricesOvertime['stock_3'].apply(np.mean), c='y')\n",
    "\n",
    "for firm in firms['run_0']:\n",
    "    ax2.plot(range(len(firm)), firm.apply(int))\n",
    "\n",
    "ax2.set_ylabel('Dividends', fontsize='14')\n",
    "ax2.set_xlabel('(Simulation time)', fontsize='14')\n",
    "ax1.set_ylabel('Average price', fontsize='18')\n",
    "\n",
    "plt.legend(loc='best', fontsize='14')\n",
    "fig.savefig('pricesAndDividends.png')"
   ]
  },
  {
   "cell_type": "markdown",
   "metadata": {
    "collapsed": true
   },
   "source": [
    "### 2.2 Volume"
   ]
  },
  {
   "cell_type": "code",
   "execution_count": 33,
   "metadata": {
    "collapsed": false
   },
   "outputs": [
    {
     "data": {
      "text/html": [
       "<div>\n",
       "<table border=\"1\" class=\"dataframe\">\n",
       "  <thead>\n",
       "    <tr style=\"text-align: right;\">\n",
       "      <th></th>\n",
       "      <th>id</th>\n",
       "      <th>seed</th>\n",
       "      <th>period</th>\n",
       "      <th>role</th>\n",
       "      <th>object_name</th>\n",
       "      <th>object_type</th>\n",
       "      <th>amount_of_product</th>\n",
       "      <th>amount_of_money</th>\n",
       "      <th>price</th>\n",
       "    </tr>\n",
       "  </thead>\n",
       "  <tbody>\n",
       "    <tr>\n",
       "      <th>0</th>\n",
       "      <td>0</td>\n",
       "      <td>0</td>\n",
       "      <td>0</td>\n",
       "      <td>buyer</td>\n",
       "      <td>trader_7</td>\n",
       "      <td>trader</td>\n",
       "      <td>5</td>\n",
       "      <td>48.941870</td>\n",
       "      <td>9.788374</td>\n",
       "    </tr>\n",
       "    <tr>\n",
       "      <th>1</th>\n",
       "      <td>0</td>\n",
       "      <td>0</td>\n",
       "      <td>0</td>\n",
       "      <td>seller</td>\n",
       "      <td>trader_72</td>\n",
       "      <td>trader</td>\n",
       "      <td>5</td>\n",
       "      <td>48.941870</td>\n",
       "      <td>9.788374</td>\n",
       "    </tr>\n",
       "    <tr>\n",
       "      <th>2</th>\n",
       "      <td>0</td>\n",
       "      <td>0</td>\n",
       "      <td>0</td>\n",
       "      <td>stock</td>\n",
       "      <td>stock_0</td>\n",
       "      <td>stock</td>\n",
       "      <td>5</td>\n",
       "      <td>48.941870</td>\n",
       "      <td>9.788374</td>\n",
       "    </tr>\n",
       "    <tr>\n",
       "      <th>3</th>\n",
       "      <td>1</td>\n",
       "      <td>0</td>\n",
       "      <td>0</td>\n",
       "      <td>buyer</td>\n",
       "      <td>trader_6</td>\n",
       "      <td>trader</td>\n",
       "      <td>5</td>\n",
       "      <td>48.912428</td>\n",
       "      <td>9.782486</td>\n",
       "    </tr>\n",
       "    <tr>\n",
       "      <th>4</th>\n",
       "      <td>1</td>\n",
       "      <td>0</td>\n",
       "      <td>0</td>\n",
       "      <td>seller</td>\n",
       "      <td>trader_70</td>\n",
       "      <td>trader</td>\n",
       "      <td>5</td>\n",
       "      <td>48.912428</td>\n",
       "      <td>9.782486</td>\n",
       "    </tr>\n",
       "  </tbody>\n",
       "</table>\n",
       "</div>"
      ],
      "text/plain": [
       "   id  seed  period    role object_name object_type  amount_of_product  \\\n",
       "0   0     0       0   buyer    trader_7      trader                  5   \n",
       "1   0     0       0  seller   trader_72      trader                  5   \n",
       "2   0     0       0   stock     stock_0       stock                  5   \n",
       "3   1     0       0   buyer    trader_6      trader                  5   \n",
       "4   1     0       0  seller   trader_70      trader                  5   \n",
       "\n",
       "   amount_of_money     price  \n",
       "0        48.941870  9.788374  \n",
       "1        48.941870  9.788374  \n",
       "2        48.941870  9.788374  \n",
       "3        48.912428  9.782486  \n",
       "4        48.912428  9.782486  "
      ]
     },
     "execution_count": 33,
     "metadata": {},
     "output_type": "execute_result"
    }
   ],
   "source": [
    "transactions.head()"
   ]
  },
  {
   "cell_type": "code",
   "execution_count": 34,
   "metadata": {
    "collapsed": false
   },
   "outputs": [],
   "source": [
    "def dfOfVolumesPerStock(transactionsDataFrame, listOfStocks, SIMULATIONTIME):\n",
    "    groupedTransactions = transactionsDataFrame.groupby(['period', 'object_name'])\n",
    "    tradeVolumePerStock = {}\n",
    "    for stock in listOfStocks:\n",
    "        tradeVolume = []\n",
    "        for time in [n for n in range(SIMULATIONTIME)]:\n",
    "            try:\n",
    "                volume = groupedTransactions.get_group((time, stock))['amount_of_product'].sum()\n",
    "            except:\n",
    "                volume = 0\n",
    "            tradeVolume.append(volume)\n",
    "        tradeVolumePerStock[stock] = tradeVolume\n",
    "    return pd.DataFrame(tradeVolumePerStock)"
   ]
  },
  {
   "cell_type": "code",
   "execution_count": 35,
   "metadata": {
    "collapsed": false
   },
   "outputs": [],
   "source": [
    "STOCKS = list(set(stockVariables['object_name']))\n",
    "volumesPerStock = dfOfVolumesPerStock(transactions.query('seed == 0'), STOCKS, 100)"
   ]
  },
  {
   "cell_type": "code",
   "execution_count": 36,
   "metadata": {
    "collapsed": false
   },
   "outputs": [
    {
     "data": {
      "image/png": "[encoded data removed]",
      "text/plain": [
       "<matplotlib.figure.Figure at 0xa3dfe48>"
      ]
     },
     "metadata": {},
     "output_type": "display_data"
    }
   ],
   "source": [
    "fig, ((ax1, ax2), (ax3, ax4)) = plt.subplots(2, 2, figsize=(10,5))\n",
    "\n",
    "for stock, ax in list(zip(STOCKS, [ax1,ax2,ax3,ax4])):\n",
    "    ax.bar(volumesPerStock.index, volumesPerStock[stock])\n",
    "    ax.set_ylabel(stock, fontsize='18')\n",
    "\n",
    "ax3.set_xlabel('(Simulation time)', fontsize='14')\n",
    "ax4.set_xlabel('(Simulation time)', fontsize='14')\n",
    "\n",
    "fig.savefig('tradeVolumes.png')"
   ]
  },
  {
   "cell_type": "markdown",
   "metadata": {},
   "source": [
    "## Volumes and prices "
   ]
  },
  {
   "cell_type": "code",
   "execution_count": 40,
   "metadata": {
    "collapsed": false
   },
   "outputs": [
    {
     "name": "stderr",
     "output_type": "stream",
     "text": [
      "C:\\Users\\p267237\\AppData\\Local\\Continuum\\Anaconda3\\lib\\site-packages\\matplotlib\\axes\\_axes.py:519: UserWarning: No labelled objects found. Use label='...' kwarg on individual plots.\n",
      "  warnings.warn(\"No labelled objects found. \"\n"
     ]
    },
    {
     "data": {
      "image/png": "[encoded data removed]",
      "text/plain": [
       "<matplotlib.figure.Figure at 0xbfb9cf8>"
      ]
     },
     "metadata": {},
     "output_type": "display_data"
    }
   ],
   "source": [
    "# Three subplots sharing both x/y axes\n",
    "#fig, ((ax1, ax2)) = plt.subplots(2, figsize=(6, 6), sharex=True,gridspec_kw={'height_ratios':[2,1]})\n",
    "fig, ((ax1, ax2, ax3, ax4), (ax5, ax6, ax7, ax8)) = plt.subplots(2, 4, figsize=(16,5), sharex=True, gridspec_kw={'height_ratios':[2,1]})\n",
    "priceAxes = (ax1, ax2, ax3, ax4) \n",
    "volumeAxes = (ax5, ax6, ax7, ax8)\n",
    "\n",
    "# priceAxes[0].scatter(pricesOvertime.index, pricesOvertime['stock_0'].apply(np.mean), c='b', label='stock_0')\n",
    "# volumeAxes[0].bar(volumesPerStock.index, volumesPerStock['stock_0'])\n",
    "\n",
    "for pAx, vAx, stock in list(zip(priceAxes, volumeAxes, STOCKS)):\n",
    "    pAx.scatter(pricesOvertime.index, pricesOvertime[stock].apply(np.mean), label=stock)\n",
    "    vAx.bar(volumesPerStock.index, volumesPerStock[stock])\n",
    "\n",
    "for vAx in volumeAxes:\n",
    "    vAx.set_xlabel('Simulation time', fontsize='13')    \n",
    "\n",
    "ax1.set_ylabel('Price', fontsize='13')\n",
    "ax5.set_ylabel('Volume', fontsize='13')\n",
    "    \n",
    "# Fine-tune figure; make subplots close to each other and hide x ticks for\n",
    "# all but bottom plot.\n",
    "fig.subplots_adjust(hspace=0.01)\n",
    "#plt.setp([a.get_xticklabels() for a in f.axes[:-1]], visible=False)\n",
    "for pAx in priceAxes:\n",
    "    pAx.legend(frameon=True, loc='best')\n",
    "\n",
    "fig.savefig('volumesAndPrices.png')"
   ]
  },
  {
   "cell_type": "code",
   "execution_count": null,
   "metadata": {
    "collapsed": true
   },
   "outputs": [],
   "source": []
  },
  {
   "cell_type": "markdown",
   "metadata": {
    "collapsed": false
   },
   "source": [
    "## Standard stock market info dataframes:\n",
    "rows: quarter. \n",
    "\n",
    "columns: [open, high, low, close, volume]"
   ]
  },
  {
   "cell_type": "code",
   "execution_count": null,
   "metadata": {
    "collapsed": true
   },
   "outputs": [],
   "source": []
  },
  {
   "cell_type": "code",
   "execution_count": null,
   "metadata": {
    "collapsed": true
   },
   "outputs": [],
   "source": []
  },
  {
   "cell_type": "code",
   "execution_count": null,
   "metadata": {
    "collapsed": true
   },
   "outputs": [],
   "source": []
  },
  {
   "cell_type": "code",
   "execution_count": null,
   "metadata": {
    "collapsed": true
   },
   "outputs": [],
   "source": []
  },
  {
   "cell_type": "code",
   "execution_count": 513,
   "metadata": {
    "collapsed": true
   },
   "outputs": [],
   "source": [
    "#cur.close()\n",
    "#conn.close()"
   ]
  },
  {
   "cell_type": "code",
   "execution_count": null,
   "metadata": {
    "collapsed": true
   },
   "outputs": [],
   "source": []
  }
 ],
 "metadata": {
  "anaconda-cloud": {},
  "kernelspec": {
   "display_name": "Python 3",
   "language": "python",
   "name": "python3"
  },
  "language_info": {
   "codemirror_mode": {
    "name": "ipython",
    "version": 3
   },
   "file_extension": ".py",
   "mimetype": "text/x-python",
   "name": "python",
   "nbconvert_exporter": "python",
   "pygments_lexer": "ipython3",
   "version": "3.5.2"
  }
 },
 "nbformat": 4,
 "nbformat_minor": 1
}
